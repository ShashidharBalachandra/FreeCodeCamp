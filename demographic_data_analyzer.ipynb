{
 "cells": [
  {
   "cell_type": "markdown",
   "id": "3fe3c423-95ee-4564-8211-f78b7df5816c",
   "metadata": {},
   "source": [
    "### Loading the Dataset"
   ]
  },
  {
   "cell_type": "code",
   "execution_count": 2,
   "id": "97d137dd-90fb-4624-a053-6cf7d505809b",
   "metadata": {},
   "outputs": [],
   "source": [
    "import pandas as pd\n",
    "\n",
    "# Load the dataset from a CSV file\n",
    "df = pd.read_csv('/Users/iamshashidharbalachandragmail.com/Downloads/Learning/Python/adult.data.csv')"
   ]
  },
  {
   "cell_type": "code",
   "execution_count": 3,
   "id": "da3ae59a-293d-4e8a-ad26-71a250c8ba20",
   "metadata": {},
   "outputs": [
    {
     "data": {
      "text/html": [
       "<div>\n",
       "<style scoped>\n",
       "    .dataframe tbody tr th:only-of-type {\n",
       "        vertical-align: middle;\n",
       "    }\n",
       "\n",
       "    .dataframe tbody tr th {\n",
       "        vertical-align: top;\n",
       "    }\n",
       "\n",
       "    .dataframe thead th {\n",
       "        text-align: right;\n",
       "    }\n",
       "</style>\n",
       "<table border=\"1\" class=\"dataframe\">\n",
       "  <thead>\n",
       "    <tr style=\"text-align: right;\">\n",
       "      <th></th>\n",
       "      <th>age</th>\n",
       "      <th>workclass</th>\n",
       "      <th>fnlwgt</th>\n",
       "      <th>education</th>\n",
       "      <th>education-num</th>\n",
       "      <th>marital-status</th>\n",
       "      <th>occupation</th>\n",
       "      <th>relationship</th>\n",
       "      <th>race</th>\n",
       "      <th>sex</th>\n",
       "      <th>capital-gain</th>\n",
       "      <th>capital-loss</th>\n",
       "      <th>hours-per-week</th>\n",
       "      <th>native-country</th>\n",
       "      <th>salary</th>\n",
       "    </tr>\n",
       "  </thead>\n",
       "  <tbody>\n",
       "    <tr>\n",
       "      <th>0</th>\n",
       "      <td>39</td>\n",
       "      <td>State-gov</td>\n",
       "      <td>77516</td>\n",
       "      <td>Bachelors</td>\n",
       "      <td>13</td>\n",
       "      <td>Never-married</td>\n",
       "      <td>Adm-clerical</td>\n",
       "      <td>Not-in-family</td>\n",
       "      <td>White</td>\n",
       "      <td>Male</td>\n",
       "      <td>2174</td>\n",
       "      <td>0</td>\n",
       "      <td>40</td>\n",
       "      <td>United-States</td>\n",
       "      <td>&lt;=50K</td>\n",
       "    </tr>\n",
       "    <tr>\n",
       "      <th>1</th>\n",
       "      <td>50</td>\n",
       "      <td>Self-emp-not-inc</td>\n",
       "      <td>83311</td>\n",
       "      <td>Bachelors</td>\n",
       "      <td>13</td>\n",
       "      <td>Married-civ-spouse</td>\n",
       "      <td>Exec-managerial</td>\n",
       "      <td>Husband</td>\n",
       "      <td>White</td>\n",
       "      <td>Male</td>\n",
       "      <td>0</td>\n",
       "      <td>0</td>\n",
       "      <td>13</td>\n",
       "      <td>United-States</td>\n",
       "      <td>&lt;=50K</td>\n",
       "    </tr>\n",
       "    <tr>\n",
       "      <th>2</th>\n",
       "      <td>38</td>\n",
       "      <td>Private</td>\n",
       "      <td>215646</td>\n",
       "      <td>HS-grad</td>\n",
       "      <td>9</td>\n",
       "      <td>Divorced</td>\n",
       "      <td>Handlers-cleaners</td>\n",
       "      <td>Not-in-family</td>\n",
       "      <td>White</td>\n",
       "      <td>Male</td>\n",
       "      <td>0</td>\n",
       "      <td>0</td>\n",
       "      <td>40</td>\n",
       "      <td>United-States</td>\n",
       "      <td>&lt;=50K</td>\n",
       "    </tr>\n",
       "    <tr>\n",
       "      <th>3</th>\n",
       "      <td>53</td>\n",
       "      <td>Private</td>\n",
       "      <td>234721</td>\n",
       "      <td>11th</td>\n",
       "      <td>7</td>\n",
       "      <td>Married-civ-spouse</td>\n",
       "      <td>Handlers-cleaners</td>\n",
       "      <td>Husband</td>\n",
       "      <td>Black</td>\n",
       "      <td>Male</td>\n",
       "      <td>0</td>\n",
       "      <td>0</td>\n",
       "      <td>40</td>\n",
       "      <td>United-States</td>\n",
       "      <td>&lt;=50K</td>\n",
       "    </tr>\n",
       "    <tr>\n",
       "      <th>4</th>\n",
       "      <td>28</td>\n",
       "      <td>Private</td>\n",
       "      <td>338409</td>\n",
       "      <td>Bachelors</td>\n",
       "      <td>13</td>\n",
       "      <td>Married-civ-spouse</td>\n",
       "      <td>Prof-specialty</td>\n",
       "      <td>Wife</td>\n",
       "      <td>Black</td>\n",
       "      <td>Female</td>\n",
       "      <td>0</td>\n",
       "      <td>0</td>\n",
       "      <td>40</td>\n",
       "      <td>Cuba</td>\n",
       "      <td>&lt;=50K</td>\n",
       "    </tr>\n",
       "  </tbody>\n",
       "</table>\n",
       "</div>"
      ],
      "text/plain": [
       "   age         workclass  fnlwgt  education  education-num  \\\n",
       "0   39         State-gov   77516  Bachelors             13   \n",
       "1   50  Self-emp-not-inc   83311  Bachelors             13   \n",
       "2   38           Private  215646    HS-grad              9   \n",
       "3   53           Private  234721       11th              7   \n",
       "4   28           Private  338409  Bachelors             13   \n",
       "\n",
       "       marital-status         occupation   relationship   race     sex  \\\n",
       "0       Never-married       Adm-clerical  Not-in-family  White    Male   \n",
       "1  Married-civ-spouse    Exec-managerial        Husband  White    Male   \n",
       "2            Divorced  Handlers-cleaners  Not-in-family  White    Male   \n",
       "3  Married-civ-spouse  Handlers-cleaners        Husband  Black    Male   \n",
       "4  Married-civ-spouse     Prof-specialty           Wife  Black  Female   \n",
       "\n",
       "   capital-gain  capital-loss  hours-per-week native-country salary  \n",
       "0          2174             0              40  United-States  <=50K  \n",
       "1             0             0              13  United-States  <=50K  \n",
       "2             0             0              40  United-States  <=50K  \n",
       "3             0             0              40  United-States  <=50K  \n",
       "4             0             0              40           Cuba  <=50K  "
      ]
     },
     "execution_count": 3,
     "metadata": {},
     "output_type": "execute_result"
    }
   ],
   "source": [
    "df.head()"
   ]
  },
  {
   "cell_type": "markdown",
   "id": "5cdce0c8-a1c7-4330-ab1f-1fbfe33ba714",
   "metadata": {},
   "source": [
    "### 1. How many people of each race are represented in this dataset?"
   ]
  },
  {
   "cell_type": "code",
   "execution_count": 5,
   "id": "0a803de7-9d96-42a5-ba43-4b3493403a92",
   "metadata": {},
   "outputs": [
    {
     "data": {
      "text/plain": [
       "race\n",
       "White                 27816\n",
       "Black                  3124\n",
       "Asian-Pac-Islander     1039\n",
       "Amer-Indian-Eskimo      311\n",
       "Other                   271\n",
       "Name: count, dtype: int64"
      ]
     },
     "execution_count": 5,
     "metadata": {},
     "output_type": "execute_result"
    }
   ],
   "source": [
    "race_count = df['race'].value_counts()\n",
    "race_count"
   ]
  },
  {
   "cell_type": "markdown",
   "id": "bff9be16-a99e-46e9-95fa-321c9012a47a",
   "metadata": {},
   "source": [
    "### 2. What is the average age of men?"
   ]
  },
  {
   "cell_type": "code",
   "execution_count": 7,
   "id": "3fc356c6-0b9b-4300-967c-843c59e8aa46",
   "metadata": {},
   "outputs": [
    {
     "data": {
      "text/plain": [
       "39.43"
      ]
     },
     "execution_count": 7,
     "metadata": {},
     "output_type": "execute_result"
    }
   ],
   "source": [
    "average_age_men = df[df['sex'] == 'Male']['age'].mean()\n",
    "round(average_age_men,2)"
   ]
  },
  {
   "cell_type": "markdown",
   "id": "075fd215-209b-4682-8536-c158d9d046d7",
   "metadata": {},
   "source": [
    "### 3. What is the percentage of people who have a Bachelor's degree?"
   ]
  },
  {
   "cell_type": "code",
   "execution_count": 9,
   "id": "a394f2c6-30f3-4856-8c03-ef6dc9a40dd4",
   "metadata": {},
   "outputs": [
    {
     "name": "stdout",
     "output_type": "stream",
     "text": [
      "percentage_bachelors: 16.45%\n"
     ]
    }
   ],
   "source": [
    "total_people = len(df)\n",
    "bachelors_count = len(df[df['education'] == 'Bachelors'])\n",
    "percentage_bachelors = (bachelors_count / total_people) * 100\n",
    "print(f\"percentage_bachelors: {percentage_bachelors:.2f}%\")"
   ]
  },
  {
   "cell_type": "markdown",
   "id": "25e860ff-63a8-4159-bd5d-6dc2910fe007",
   "metadata": {},
   "source": [
    "### 4. What percentage of people with advanced education (Bachelors, Masters, or Doctorate) make more than 50K?"
   ]
  },
  {
   "cell_type": "code",
   "execution_count": 11,
   "id": "db27f6e2-6d04-4ee2-ae7b-61983034960c",
   "metadata": {},
   "outputs": [
    {
     "name": "stdout",
     "output_type": "stream",
     "text": [
      "percentage_higher_education_rich: 46.54%\n"
     ]
    }
   ],
   "source": [
    "advanced_education = df['education'].isin(['Bachelors', 'Masters', 'Doctorate'])\n",
    "higher_education_rich = df[advanced_education & (df['salary'] == '>50K')]\n",
    "percentage_higher_education_rich = (len(higher_education_rich) / len(df[advanced_education])) * 100\n",
    "print(f\"percentage_higher_education_rich: {percentage_higher_education_rich:.2f}%\")"
   ]
  },
  {
   "cell_type": "markdown",
   "id": "604319bf-b8ab-4dae-b098-97396ed5b668",
   "metadata": {},
   "source": [
    "### 5. What percentage of people without advanced education make more than 50K?"
   ]
  },
  {
   "cell_type": "code",
   "execution_count": 13,
   "id": "91d74eea-00fa-47ee-888a-d8181671f83e",
   "metadata": {},
   "outputs": [
    {
     "name": "stdout",
     "output_type": "stream",
     "text": [
      "percentage_lower_education_rich: 17.37%\n"
     ]
    }
   ],
   "source": [
    "no_advanced_education = ~advanced_education\n",
    "lower_education_rich = df[no_advanced_education & (df['salary'] == '>50K')]\n",
    "percentage_lower_education_rich = (len(lower_education_rich) / len(df[no_advanced_education])) * 100\n",
    "print(f\"percentage_lower_education_rich: {percentage_lower_education_rich:.2f}%\")"
   ]
  },
  {
   "cell_type": "markdown",
   "id": "46fd3d3c-2110-44d9-b6ea-84ba565809b6",
   "metadata": {},
   "source": [
    "### 6. What is the minimum number of hours a person works per week?"
   ]
  },
  {
   "cell_type": "code",
   "execution_count": 15,
   "id": "76bca64b-d4f8-42e7-84d6-4dc866f3205a",
   "metadata": {},
   "outputs": [
    {
     "data": {
      "text/plain": [
       "1"
      ]
     },
     "execution_count": 15,
     "metadata": {},
     "output_type": "execute_result"
    }
   ],
   "source": [
    "min_work_hours = df['hours-per-week'].min()\n",
    "min_work_hours"
   ]
  },
  {
   "cell_type": "markdown",
   "id": "83c2d729-bc8c-44a1-a4a1-2b855aacb218",
   "metadata": {},
   "source": [
    "### 7. What percentage of the people who work the minimum number of hours per week have a salary of more than 50K?"
   ]
  },
  {
   "cell_type": "code",
   "execution_count": 17,
   "id": "a3881e12-df7a-46ef-a5f1-865649ee2f3d",
   "metadata": {},
   "outputs": [
    {
     "name": "stdout",
     "output_type": "stream",
     "text": [
      "rich_precentage: 10.00%\n"
     ]
    }
   ],
   "source": [
    "min_hours_workers = df[df['hours-per-week'] == min_work_hours]\n",
    "rich_min_hours = min_hours_workers[min_hours_workers['salary'] == '>50K']\n",
    "rich_percentage = (len(rich_min_hours) / len(min_hours_workers)) * 100\n",
    "print(f\"rich_precentage: {rich_percentage:.2f}%\")"
   ]
  },
  {
   "cell_type": "markdown",
   "id": "e2e11034-f798-4c12-a912-80ef487b86dd",
   "metadata": {},
   "source": [
    "### 8. What country has the highest percentage of people that earn >50K and what is that percentage?"
   ]
  },
  {
   "cell_type": "code",
   "execution_count": 19,
   "id": "cb75ead7-3665-4c5d-a8ab-cebfa20053cd",
   "metadata": {},
   "outputs": [
    {
     "name": "stdout",
     "output_type": "stream",
     "text": [
      "highest_earning_country: Iran\n",
      "highest_earning_country_percentage: 41.86%\n"
     ]
    }
   ],
   "source": [
    "country_earning_rich = df[df['salary'] == '>50K']['native-country'].value_counts()\n",
    "country_population = df['native-country'].value_counts()\n",
    "\n",
    "highest_earning_country = (country_earning_rich / country_population * 100).idxmax()\n",
    "highest_earning_country_percentage = (country_earning_rich / country_population * 100).max()\n",
    "\n",
    "print(f\"highest_earning_country: {highest_earning_country}\\n\"\n",
    "      f\"highest_earning_country_percentage: {highest_earning_country_percentage:.2f}%\")"
   ]
  },
  {
   "cell_type": "markdown",
   "id": "ab49d4e8-9b38-45a4-bbe8-3bb915722a28",
   "metadata": {},
   "source": [
    "### 9. Identify the most popular occupation for those who earn >50K in India."
   ]
  },
  {
   "cell_type": "code",
   "execution_count": 21,
   "id": "0841fad3-b20d-4ca9-b2c4-a42ec4a6185e",
   "metadata": {},
   "outputs": [
    {
     "data": {
      "text/plain": [
       "'Prof-specialty'"
      ]
     },
     "execution_count": 21,
     "metadata": {},
     "output_type": "execute_result"
    }
   ],
   "source": [
    "top_IN_occupation = df[(df['native-country'] == 'India') & (df['salary'] == '>50K')]['occupation'].value_counts().idxmax()\n",
    "top_IN_occupation"
   ]
  },
  {
   "cell_type": "code",
   "execution_count": 22,
   "id": "f49be72f-e2ec-407c-89c0-c1c9b779d2ae",
   "metadata": {},
   "outputs": [
    {
     "name": "stdout",
     "output_type": "stream",
     "text": [
      "race_count: race\n",
      "White                 27816\n",
      "Black                  3124\n",
      "Asian-Pac-Islander     1039\n",
      "Amer-Indian-Eskimo      311\n",
      "Other                   271\n",
      "Name: count, dtype: int64\n",
      "\n",
      "average_age_men: 39.43\n",
      "\n",
      "percentage_bachelors: 16.45%\n",
      "\n",
      "percentage_higher_education_rich: 46.54%\n",
      "\n",
      "percentage_lower_education_rich: 17.37%\n",
      "\n",
      "min_work_hours: 1.00\n",
      "\n",
      "rich_percentage: 10.00%\n",
      "\n",
      "highest_earning_country: Iran\n",
      "\n",
      "highest_earning_country_percentage: 41.86%\n",
      "\n",
      "top_IN_occupation: Prof-specialty\n"
     ]
    }
   ],
   "source": [
    "print(f\"race_count: {race_count}\\n\")\n",
    "print(f\"average_age_men: {average_age_men:.2f}\\n\")\n",
    "print(f\"percentage_bachelors: {percentage_bachelors:.2f}%\\n\")\n",
    "print(f\"percentage_higher_education_rich: {percentage_higher_education_rich:.2f}%\\n\")\n",
    "print(f\"percentage_lower_education_rich: {percentage_lower_education_rich:.2f}%\\n\")\n",
    "print(f\"min_work_hours: {min_work_hours:.2f}\\n\")\n",
    "print(f\"rich_percentage: {rich_percentage:.2f}%\\n\")\n",
    "print(f\"highest_earning_country: {highest_earning_country}\\n\")\n",
    "print(f\"highest_earning_country_percentage: {highest_earning_country_percentage:.2f}%\\n\")\n",
    "print(f\"top_IN_occupation: {top_IN_occupation}\")"
   ]
  },
  {
   "cell_type": "code",
   "execution_count": null,
   "id": "fc3e4239-43ce-494c-a775-c060b7879041",
   "metadata": {},
   "outputs": [],
   "source": []
  }
 ],
 "metadata": {
  "kernelspec": {
   "display_name": "Python 3 (ipykernel)",
   "language": "python",
   "name": "python3"
  },
  "language_info": {
   "codemirror_mode": {
    "name": "ipython",
    "version": 3
   },
   "file_extension": ".py",
   "mimetype": "text/x-python",
   "name": "python",
   "nbconvert_exporter": "python",
   "pygments_lexer": "ipython3",
   "version": "3.11.7"
  }
 },
 "nbformat": 4,
 "nbformat_minor": 5
}
